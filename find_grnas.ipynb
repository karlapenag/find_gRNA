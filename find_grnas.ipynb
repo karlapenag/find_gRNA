{
 "cells": [
  {
   "cell_type": "code",
   "execution_count": 2,
   "id": "41449ff5-d35d-4ad1-bd3c-f6afd520b301",
   "metadata": {},
   "outputs": [],
   "source": [
    "import itertools"
   ]
  },
  {
   "cell_type": "code",
   "execution_count": 3,
   "id": "ce15f941-fe50-48b1-908a-ee99ce4aebae",
   "metadata": {},
   "outputs": [
    {
     "name": "stdout",
     "output_type": "stream",
     "text": [
      "1024\n",
      "64\n"
     ]
    }
   ],
   "source": [
    "nucleotides = [\"A\",\"C\",\"G\",\"T\"]\n",
    "combinations = list(itertools.product(nucleotides,repeat=5))\n",
    "print(len(combinations))\n",
    "i = 0\n",
    "while i < len(combinations):\n",
    "    if (combinations[i][2] != \"G\"):\n",
    "        del combinations[i]\n",
    "        i -= 1\n",
    "    i += 1\n",
    "## \n",
    "i = 0\n",
    "while i < len(combinations):\n",
    "    if (combinations[i][3] != \"G\") and (combinations[i][3] != \"A\"):\n",
    "        del combinations[i]\n",
    "        i -= 1\n",
    "    i += 1\n",
    "##\n",
    "i = 0\n",
    "while i < len(combinations):\n",
    "    if (combinations[i][4] != \"G\") and (combinations[i][4] != \"A\"):\n",
    "        del combinations[i]\n",
    "        i -= 1\n",
    "    i += 1\n",
    "print(len(combinations))"
   ]
  },
  {
   "cell_type": "code",
   "execution_count": 5,
   "id": "0c3a8562-3c3a-44ba-8d5f-bd45292ba765",
   "metadata": {
    "collapsed": true,
    "jupyter": {
     "outputs_hidden": true
    },
    "tags": []
   },
   "outputs": [
    {
     "data": {
      "text/plain": [
       "['AAGAA',\n",
       " 'AAGAG',\n",
       " 'AAGGA',\n",
       " 'AAGGG',\n",
       " 'ACGAA',\n",
       " 'ACGAG',\n",
       " 'ACGGA',\n",
       " 'ACGGG',\n",
       " 'AGGAA',\n",
       " 'AGGAG',\n",
       " 'AGGGA',\n",
       " 'AGGGG',\n",
       " 'ATGAA',\n",
       " 'ATGAG',\n",
       " 'ATGGA',\n",
       " 'ATGGG',\n",
       " 'CAGAA',\n",
       " 'CAGAG',\n",
       " 'CAGGA',\n",
       " 'CAGGG',\n",
       " 'CCGAA',\n",
       " 'CCGAG',\n",
       " 'CCGGA',\n",
       " 'CCGGG',\n",
       " 'CGGAA',\n",
       " 'CGGAG',\n",
       " 'CGGGA',\n",
       " 'CGGGG',\n",
       " 'CTGAA',\n",
       " 'CTGAG',\n",
       " 'CTGGA',\n",
       " 'CTGGG',\n",
       " 'GAGAA',\n",
       " 'GAGAG',\n",
       " 'GAGGA',\n",
       " 'GAGGG',\n",
       " 'GCGAA',\n",
       " 'GCGAG',\n",
       " 'GCGGA',\n",
       " 'GCGGG',\n",
       " 'GGGAA',\n",
       " 'GGGAG',\n",
       " 'GGGGA',\n",
       " 'GGGGG',\n",
       " 'GTGAA',\n",
       " 'GTGAG',\n",
       " 'GTGGA',\n",
       " 'GTGGG',\n",
       " 'TAGAA',\n",
       " 'TAGAG',\n",
       " 'TAGGA',\n",
       " 'TAGGG',\n",
       " 'TCGAA',\n",
       " 'TCGAG',\n",
       " 'TCGGA',\n",
       " 'TCGGG',\n",
       " 'TGGAA',\n",
       " 'TGGAG',\n",
       " 'TGGGA',\n",
       " 'TGGGG',\n",
       " 'TTGAA',\n",
       " 'TTGAG',\n",
       " 'TTGGA',\n",
       " 'TTGGG']"
      ]
     },
     "execution_count": 5,
     "metadata": {},
     "output_type": "execute_result"
    }
   ],
   "source": [
    "combs_list = []\n",
    "for i in range(0, len(combinations)):\n",
    "    combs_list.append(''.join(combinations[i]))\n",
    "combs_list"
   ]
  },
  {
   "cell_type": "code",
   "execution_count": 22,
   "id": "7e3a5b2a-7f74-4c12-9693-46fca5d454c3",
   "metadata": {},
   "outputs": [],
   "source": [
    "genome = \"ATGTCCTTCTTCAATTTCCGTAAGATCTTCAAGTTGGGGAGCGAGAAGAAGAAGAAACAGTACGAACACGTGAAGAGAGACCTGAACCCCGAAGAGTTTTGGGAGATTATTGGAGAACTGGGCGACGGAGCCTTCGGGAAAGTCTATAAGGCCCAGAATAAAGAGACCAATGTTTTAGCTGCTGCAAAGGTGATTGACACCAAATCTGAAGAAGAGCTTGAAGATTATATGGTTGAGATTGACATATTAGCATCTTGTGATCACCCAAACATCGTCAAGCTTCTAGATGCCTTCTATTACGAGAACAACCTTTGGATCCTCATTGAATTCTGTGCAGGGGGAGCAGTGGATGCTGTGATGCTTGAACTTGAGAGACCATTAACTGAATCCCAAATCCAAGTAGTCTGCAAGCAGACATTAGAGGCATTGAATTACTTACATGACAATAAAATCATCCACCGAGATCTAAAAGCTGGCAATATTCTCTTTACCTTAGATGGAGACATTAAATTAGCGGATTTTGGAGTATCAGCTAAAAATACCAGGACAATTCAAAGGAGGGATTCATTTATTGGCACACCATATTGGATGGCTCCTGAAGTAGTCATGTGTGAGACATCAAAGGACAGACCTTATGACTACAAAGCTGATGTTTGGTCCCTGGGTATTACTTTAATAGAAATGGCTGAGATAGAGCCACCTCATCATGAGTTAAATCCAATGCGCGTGCTGCTGAAAATTGCAAAATCTGAGCCCCCAACATTAGCACAGCCATCAAAATGGTCTTCAAATTTTAAGGACTTTCTAAGGAAATGCTTGGAAAAGAATGTGGATGCGCGGTGGACCACGTCTCAGCTGTTGCAGCATCCCTTTGTTACCGTTGATTCCAACAAACCAGTCCGAGAGTTGATTGCTGAGGCAAAGGCTGAAGTAACAGAAGAAGTTGAAGATGGCAAGGAAGAAGATGAGGAGGAGGAAGCAGAGAATGCTCTGCCAATACCTGCAAATAAACGTGCCTCCTCTGACCTCAGCATTGCCAGCTCTGAAGAAGATAAACTTTCACAAAATGCTTGTATTTTGGAATCTGTGTCAGAAAGAACAGAACAAAGTACTTCTGAGGATAAATTTAGCAACAAAATTCTTAATGAGAAACCTACGACTGACGGTCCTGAGAAGGCTGTGGATGAGCATGCAAGTGATGTGAACTTAGAAACTGGGGCTGAACTAAATGACCAAACAGTAGGAATCCATGAGAATGGGAGAGAGAAGAAAAGACCCAAGCTGGAAAATCTGCCAGATACACAAGACCAGCAAACTGTGGATGTTAATTCAGTCAGTGAAGAAAATGAGAATAATAGAGTAACTTTAGAAACGAACACTGATTGTCTGAAACCAGAGGAAGACAGAAATAAAGAAAACCAAGAGACACTTGAGAGTAAACTTATACAATCTGAAGAAATTAATGACACACATATTCAAACAATGGACTTAGTTTCTCAAGAGACTGGAGAAAAAGAAGCAGATTTTCAGGCAGTTGACAATGAAGTTGGGCTTACAAAGGAAGAAACCCAAGAGAAATTAGGAAAAGATGGTACAGCTCAAAAAGTTATAACCAGTGATAGAAGCAGTGAGGTGGGGACAGACGAGGCTCTAGATGACACTCAGAAGGCTGCTGAGCTCAGTAAGGCAGCACAGAGTGGGGAAGGGGACGAAGCCCTGGCGCCTACCCAGACACTAGCAGAGAAGCCCACAGAGGGCCCTGAGGCCGGTGGGGCTGAGGAAGAGCCTCCTGGTGGAGAGAGAGTTGAGGATAAACAGCCAGAGCAGCAGCCTGCAGTGTGTGAAGCTGAGGGACAGTTAACCAGCACGTCAGAGACCACACGGGCAACCCTGGAGCAACCGGAGACGGATGAAGTTGAGCAGGTCAGCGAGTCCAATAGCATTGAGGAGCTAGAGAGACTTGTAGTTACTGGTGCTGAGGCACGGGCTCTCGGGAGTGAAGGTGAGGCAGCTGCTACTGAGGTAGATTTGGAGAGAAAAGAAAACGCACAGAAAGTGCCCGTTAAAGCAGAGTCCCAAGCTCCTGCAGCATCGCAGCCCAGCGAGCCTCACCCTGTCTTAATACCCAGTATTAATATTAATTCTGAAACCACAGAAAATAAAGAAGAAATGGGTGCTTTGCCAAAACCTGAAACCATACTGCCACCAGAGCCTGAACATGAAAAGGGAAATGACACCGACTCAGGGACTGGGTCCACTGTGGAGAATAGCAGTGGTGACCTGAACTTGTCCATCTCTAGCTTCCTAAGCAAAGCTAAGGACAGCGGCTCAGTGTCTCTGCAGGAGACAAGAAGACAGAAGAAAACATTGAAGAAAACACGCAAGTTTATTGTCGATGGTGTAGAAGTGAGTGTGACGACATCGAAGATAGTTACAGACAGCGACTCCAAAACGGAGGAACTGCGCTTTCTCAGGCGTCAGGAACTTCGGGAGCTGAGGCTTCTTCAGAAGGAGGAGCAGCGAGCCCAGCAGCAGCTCAATGGGAAACTGCAGCAGCAGCGGGAGCAGATCTTCAGGCGCTTTGAGCAGGAGATGCTGAGTAAGAAGCGACAATATGACCAAGAAATTGAGAATTTAGAGAAGCAGCAGAAACAGACAATTGAACGGCTAGAACAAGAGCACACTAACCGCCTGAGAGACGAAGCCAAGCGCATCAAAGGAGAGCAGGAGAAGGAGCTGTCCAAGTTCCAGAATGTGCTGAAAAACCGCAAGAAGGAGGTTATGAATGAAGTGGAGAAAGCCCCCAGAGAGCTGAGGAGGGAGCTCACGAAGCGCAGGAAAGAGGAGCTTGCGCAGAGCCAGCACGCTCAGGAACAAGAATTTGTTCAGAAGCAACAACAAGAGTTAGATGGTTCTCTGAAAAAGATTATCCAGCAGCAGAAGGCAGAGTTGGCCAATATTGAGAGAGAATGCCTGAATAACAAGCAGCAGCTCATGAGAGCTCGAGAAGCCGCAATTTGGGAGCTTGAAGAGCGACATTTACAAGAGAAGCACCAGCTGCTTAAACAGCAGCTTAAAGATCAGTATTTCATGCAGAGACATCAGCTGCTAAAACGCCATGAGAAGGAAACAGAACAAATGCAGCGCTACAATCAACGACTTATTGAAGAACTGAAAAACAGACAGACTCAGGAACGAGCGAGACTGCCCAAGATTCAAAGAAGTGAAGCCAAGACACGAATGGCCATGTTTAAAAAAAGTTTGAGGATCAACTCAACAGCCACACCAGACCAGGACCGTGAAAAAATTAAACAGTTTGCTGCACAAGAAGAAAAGAGACAGAAAAATGAGAGAATGGCTCAGCATCAAAAACATGAGAGCCAAATGCGGGATCTTCAGTTGCAGTGTGAAGCCAATGTTCGGGAACTGCACCAGCTGCAGAATGAAAAATGCCACCTGTTGGTTGAACATGAGACTCAGAAGCTGAAGGAGTTGGATGAGGAGCACAGCCAAGAGCTGAAGGAGTGGAGAGAGAAGCTGAGACCCAGGAAGAAGACACTGGAAGAAGAGTTTGCCAGGAAACTGCAGGAACAGGAAGTGTTCTTTAAAATGACTGGGGAGTCCGAATGTCTTAATCCATCAGCACAGAGCCGGATCTCTAAATTCTACCCTATTCCCACCTTACATTCCACTGGGTCATAG\""
   ]
  },
  {
   "cell_type": "code",
   "execution_count": 31,
   "id": "e049cc5d-b7a1-4320-a282-15ab1158884a",
   "metadata": {},
   "outputs": [],
   "source": [
    "genome = \"GCCCAGAATAAAGAGACCAATGTTTTAGCTGCTGCAAAGGTGATTGACACCAAATCTGAAGAAGAGCTTGAAGATTATATGGTTGAGATTGACATATTAGCATCTTGTGATCACCCAAACATCGTCAAGCTTCTAGATGCCTTCTATTACGAGAACAACCTTTGG\""
   ]
  },
  {
   "cell_type": "code",
   "execution_count": 32,
   "id": "4fd095d9-0e12-4155-b0f2-9f250230e48d",
   "metadata": {},
   "outputs": [],
   "source": [
    "## find pattern in genome\n",
    "final_list = []\n",
    "def FindPatterns(Pattern,Genome):\n",
    "    for i in range(0,len(Genome)):\n",
    "        if Genome[i:i+len(Pattern)]==Pattern:\n",
    "            final_list.append(Pattern)  \n",
    "            print(Pattern)"
   ]
  },
  {
   "cell_type": "code",
   "execution_count": 33,
   "id": "821a7265-28b2-4fd6-be2e-2a848833a7d6",
   "metadata": {
    "tags": []
   },
   "outputs": [
    {
     "name": "stdout",
     "output_type": "stream",
     "text": [
      "AAGAA\n",
      "AAGAG\n",
      "AAGAG\n",
      "ACGAG\n",
      "CAGAA\n",
      "CTGAA\n",
      "GAGAA\n",
      "TTGAA\n",
      "TTGAG\n"
     ]
    }
   ],
   "source": [
    "for i in range (0, len(combs_list)):\n",
    "    FindPatterns(combs_list[i],genome)"
   ]
  },
  {
   "cell_type": "code",
   "execution_count": 34,
   "id": "8f90f7bd-f908-41e4-bf2e-7f0faa07845b",
   "metadata": {},
   "outputs": [],
   "source": [
    "final = list(set(final_list))"
   ]
  },
  {
   "cell_type": "code",
   "execution_count": 35,
   "id": "118fea2e-fcdd-49ee-81cd-17d715a718b4",
   "metadata": {},
   "outputs": [
    {
     "data": {
      "text/plain": [
       "8"
      ]
     },
     "execution_count": 35,
     "metadata": {},
     "output_type": "execute_result"
    }
   ],
   "source": [
    "len(final)"
   ]
  },
  {
   "cell_type": "code",
   "execution_count": null,
   "id": "8479135d-5d93-4cf8-bbd7-0540a752125d",
   "metadata": {},
   "outputs": [],
   "source": []
  }
 ],
 "metadata": {
  "kernelspec": {
   "display_name": "Python 3 (ipykernel)",
   "language": "python",
   "name": "python3"
  },
  "language_info": {
   "codemirror_mode": {
    "name": "ipython",
    "version": 3
   },
   "file_extension": ".py",
   "mimetype": "text/x-python",
   "name": "python",
   "nbconvert_exporter": "python",
   "pygments_lexer": "ipython3",
   "version": "3.8.12"
  }
 },
 "nbformat": 4,
 "nbformat_minor": 5
}
